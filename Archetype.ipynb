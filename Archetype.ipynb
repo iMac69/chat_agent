{
 "cells": [
  {
   "cell_type": "markdown",
   "metadata": {},
   "source": [
    "Modify the helpers.py to load environment variables using python-dotenv:"
   ]
  },
  {
   "cell_type": "code",
   "execution_count": 2,
   "metadata": {},
   "outputs": [],
   "source": [
    "# utils/helpers.py (Updated)\n",
    "\n",
    "import os\n",
    "import uuid\n",
    "import json\n",
    "import logging\n",
    "from dotenv import load_dotenv\n",
    "from datetime import datetime\n",
    "\n",
    "# Load environment variables from .env\n",
    "load_dotenv()\n",
    "\n",
    "# Configure logging\n",
    "logging.basicConfig(\n",
    "    filename='chat_agent.log',\n",
    "    level=logging.INFO,\n",
    "    format='%(asctime)s:%(levelname)s:%(message)s'\n",
    ")\n",
    "\n",
    "def generate_session_token():\n",
    "    \"\"\"\n",
    "    Generate a unique session token using UUID4.\n",
    "    \"\"\"\n",
    "    return str(uuid.uuid4())\n",
    "\n",
    "def load_knowledge_base():\n",
    "    \"\"\"\n",
    "    Load knowledge base documents from the knowledge_base directory.\n",
    "    Returns a dictionary with document names as keys and content as values.\n",
    "    \"\"\"\n",
    "    knowledge_dir = os.path.join(os.getcwd(), 'knowledge_base')\n",
    "    knowledge = {}\n",
    "    for filename in os.listdir(knowledge_dir):\n",
    "        if filename.endswith('.txt'):\n",
    "            with open(os.path.join(knowledge_dir, filename), 'r', encoding='utf-8') as file:\n",
    "                content = file.read()\n",
    "                key = filename.replace('.txt', '')\n",
    "                knowledge[key] = content\n",
    "    return knowledge\n",
    "\n",
    "def save_json(data, filename):\n",
    "    \"\"\"\n",
    "    Save a dictionary as a JSON file.\n",
    "    \"\"\"\n",
    "    with open(filename, 'w', encoding='utf-8') as f:\n",
    "        json.dump(data, f, ensure_ascii=False, indent=4)\n",
    "\n",
    "def load_json(filename):\n",
    "    \"\"\"\n",
    "    Load a JSON file and return its content as a dictionary.\n",
    "    \"\"\"\n",
    "    with open(filename, 'r', encoding='utf-8') as f:\n",
    "        return json.load(f)"
   ]
  },
  {
   "cell_type": "markdown",
   "metadata": {},
   "source": []
  },
  {
   "cell_type": "markdown",
   "metadata": {},
   "source": []
  }
 ],
 "metadata": {
  "kernelspec": {
   "display_name": "venv",
   "language": "python",
   "name": "python3"
  },
  "language_info": {
   "codemirror_mode": {
    "name": "ipython",
    "version": 3
   },
   "file_extension": ".py",
   "mimetype": "text/x-python",
   "name": "python",
   "nbconvert_exporter": "python",
   "pygments_lexer": "ipython3",
   "version": "3.12.4"
  }
 },
 "nbformat": 4,
 "nbformat_minor": 2
}
